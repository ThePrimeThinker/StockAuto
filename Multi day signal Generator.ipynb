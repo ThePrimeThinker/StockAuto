{
 "cells": [
  {
   "cell_type": "code",
   "execution_count": null,
   "id": "d56c78c9-91aa-4f25-adfc-e3fa6363ebc3",
   "metadata": {},
   "outputs": [],
   "source": [
    "# signal_analyzer.py\n",
    "import pandas as pd\n",
    "from datetime import datetime, timedelta\n",
    "\n",
    "# Load full history\n",
    "df = pd.read_csv(\"data/nifty_options_chain.csv\")\n",
    "df['date'] = pd.to_datetime(df['date'])\n",
    "\n",
    "# Filter last 5 days\n",
    "cutoff = datetime.today() - timedelta(days=5)\n",
    "df_5d = df[df['date'] > cutoff]\n",
    "\n",
    "# Group by strike & calculate OI trend\n",
    "summary = (\n",
    "    df_5d.groupby('strikePrice')\n",
    "    .agg(avg_OI=('OI', 'mean'),\n",
    "         OI_change=('OI', lambda x: x.iloc[-1] - x.iloc[0]),\n",
    "         LTP_change=('LTP', lambda x: x.iloc[-1] - x.iloc[0]),\n",
    "         avg_volume=('volume', 'mean'))\n",
    "    .reset_index()\n",
    ")\n",
    "\n",
    "# Flag potential smart money activity\n",
    "signals = summary[\n",
    "    (summary['OI_change'] > 10000) &\n",
    "    (summary['avg_volume'] < 1000) &\n",
    "    (summary['LTP_change'] > 5)\n",
    "]\n",
    "\n",
    "print(\"📊 Potential Smart Call Buildup Setups:\")\n",
    "print(signals.sort_values(\"OI_change\", ascending=False))\n"
   ]
  }
 ],
 "metadata": {
  "kernelspec": {
   "display_name": "Python [conda env:base] *",
   "language": "python",
   "name": "conda-base-py"
  },
  "language_info": {
   "codemirror_mode": {
    "name": "ipython",
    "version": 3
   },
   "file_extension": ".py",
   "mimetype": "text/x-python",
   "name": "python",
   "nbconvert_exporter": "python",
   "pygments_lexer": "ipython3",
   "version": "3.10.16"
  }
 },
 "nbformat": 4,
 "nbformat_minor": 5
}
