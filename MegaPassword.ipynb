{
 "cells": [
  {
   "cell_type": "code",
   "execution_count": null,
   "id": "51c22e19-c1dc-4ac6-b717-895aaa372d19",
   "metadata": {},
   "outputs": [],
   "source": []
  },
  {
   "cell_type": "code",
   "execution_count": 5,
   "id": "f55b1bfc-3e3e-4ebb-a7da-7e94b286175d",
   "metadata": {},
   "outputs": [
    {
     "name": "stdout",
     "output_type": "stream",
     "text": [
      "❌ Login failed!\n",
      "Error: Expecting value: line 1 column 1 (char 0)\n"
     ]
    }
   ],
   "source": [
    "from mega import Mega\n",
    "import threading\n",
    "\n",
    "def try_login(email, password, result_holder):\n",
    "    try:\n",
    "        mega = Mega()\n",
    "        m = mega.login(email, password)\n",
    "        result_holder['status'] = True\n",
    "        print(\"✅ Login successful!\")\n",
    "        del m  # Discard the session object\n",
    "        print(\"🚪 Logged out successfully (session discarded).\")\n",
    "    except Exception as e:\n",
    "        result_holder['status'] = False\n",
    "        print(\"❌ Login failed!\")\n",
    "        print(f\"Error: {e}\")\n",
    "\n",
    "def login_to_mega_safe(email, password, timeout=15):\n",
    "    result_holder = {'status': None}\n",
    "    t = threading.Thread(target=try_login, args=(email, password, result_holder))\n",
    "    t.start()\n",
    "    t.join(timeout)\n",
    "    \n",
    "    if t.is_alive():\n",
    "        print(\"⏳ Login attempt timed out. Possibly stuck due to API or credentials issue.\")\n",
    "        return False\n",
    "\n",
    "    \n",
    "    return result_holder['status']\n",
    "\n",
    "# Example usage\n",
    "if __name__ == \"__main__\":\n",
    "    email = \"dhavaljoshi2193.dj@gmail.com\"\n",
    "    password = \"Dhaval@111\"\n",
    "    login_to_mega_safe(email, password)\n"
   ]
  },
  {
   "cell_type": "code",
   "execution_count": null,
   "id": "2a0647ea-51ad-44ef-af23-0a5e7ad5d051",
   "metadata": {},
   "outputs": [],
   "source": []
  }
 ],
 "metadata": {
  "kernelspec": {
   "display_name": "Python [conda env:base] *",
   "language": "python",
   "name": "conda-base-py"
  },
  "language_info": {
   "codemirror_mode": {
    "name": "ipython",
    "version": 3
   },
   "file_extension": ".py",
   "mimetype": "text/x-python",
   "name": "python",
   "nbconvert_exporter": "python",
   "pygments_lexer": "ipython3",
   "version": "3.10.16"
  }
 },
 "nbformat": 4,
 "nbformat_minor": 5
}
