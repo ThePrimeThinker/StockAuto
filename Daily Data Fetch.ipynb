{
 "cells": [
  {
   "cell_type": "code",
   "execution_count": null,
   "id": "9fa2a447-bc3d-4de5-b448-435133665c00",
   "metadata": {},
   "outputs": [],
   "source": [
    "# daily_fetch.py\n",
    "import requests, json\n",
    "import pandas as pd\n",
    "from datetime import datetime\n",
    "import os\n",
    "\n",
    "HEADERS = {\"User-Agent\": \"Mozilla/5.0\"}\n",
    "API_URL = \"https://www.nseindia.com/api/option-chain-indices?symbol=NIFTY\"\n",
    "\n",
    "def fetch_data():\n",
    "    sess = requests.Session()\n",
    "    sess.get(\"https://www.nseindia.com\", headers=HEADERS)\n",
    "    resp = sess.get(API_URL, headers=HEADERS, cookies=sess.cookies)\n",
    "    return resp.json()\n",
    "\n",
    "def save_daily_data():\n",
    "    today = datetime.today().strftime('%Y-%m-%d')\n",
    "    json_data = fetch_data()\n",
    "    expiry = json_data['records']['expiryDates'][0]\n",
    "    rows = []\n",
    "\n",
    "    for item in json_data['records']['data']:\n",
    "        if item['expiryDate'] != expiry or 'CE' not in item:\n",
    "            continue\n",
    "        ce = item['CE']\n",
    "        rows.append({\n",
    "            'date': today,\n",
    "            'strikePrice': ce['strikePrice'],\n",
    "            'expiry': ce['expiryDate'],\n",
    "            'OI': ce['openInterest'],\n",
    "            'changeInOI': ce['changeinOpenInterest'],\n",
    "            'volume': ce['volume'],\n",
    "            'LTP': ce['lastPrice']\n",
    "        })\n",
    "\n",
    "    df = pd.DataFrame(rows)\n",
    "\n",
    "    os.makedirs(\"data\", exist_ok=True)\n",
    "    path = f\"data/nifty_options_chain.csv\"\n",
    "\n",
    "    if os.path.exists(path):\n",
    "        df.to_csv(path, mode='a', index=False, header=False)\n",
    "    else:\n",
    "        df.to_csv(path, index=False)\n",
    "    print(f\"✅ Data saved for {today}\")\n",
    "\n",
    "if __name__ == \"__main__\":\n",
    "    save_daily_data()\n"
   ]
  }
 ],
 "metadata": {
  "kernelspec": {
   "display_name": "Python [conda env:base] *",
   "language": "python",
   "name": "conda-base-py"
  },
  "language_info": {
   "codemirror_mode": {
    "name": "ipython",
    "version": 3
   },
   "file_extension": ".py",
   "mimetype": "text/x-python",
   "name": "python",
   "nbconvert_exporter": "python",
   "pygments_lexer": "ipython3",
   "version": "3.10.16"
  }
 },
 "nbformat": 4,
 "nbformat_minor": 5
}
